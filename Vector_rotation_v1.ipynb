{
 "cells": [
  {
   "cell_type": "markdown",
   "metadata": {},
   "source": [
    "# Vector rotation v1\n",
    "### Enter a vector in 2 dimensions $\\vec{v} = [x, y]$\n",
    "### The code will roatate the vector by it's angle from $\\theta=0$ a second time"
   ]
  },
  {
   "cell_type": "code",
   "execution_count": 38,
   "metadata": {},
   "outputs": [
    {
     "name": "stdout",
     "output_type": "stream",
     "text": [
      "Enter x coord: 12\n",
      "Enter y coord: 12\n",
      "a = [12. 12.], v = [12. 12.], vector v =[12.0, 12.0]\n"
     ]
    }
   ],
   "source": [
    "# Define the vector\n",
    "import numpy as np\n",
    "import math as m\n",
    "x=float(input('Enter x coord: ' ))\n",
    "y=float(input('Enter y coord: ' ))\n",
    "a = np.array([x,y])\n",
    "v = np.transpose(a)\n",
    "print('a = {}, v = {}, vector v =[{}, {}]'.format(a,v, v[0],v[1]))"
   ]
  },
  {
   "cell_type": "code",
   "execution_count": 39,
   "metadata": {},
   "outputs": [
    {
     "data": {
      "image/png": "[encoded data removed]",
      "text/plain": [
       "<Figure size 432x288 with 1 Axes>"
      ]
     },
     "metadata": {
      "needs_background": "light"
     },
     "output_type": "display_data"
    },
    {
     "name": "stdout",
     "output_type": "stream",
     "text": [
      "gradient: 1.0\n"
     ]
    }
   ],
   "source": [
    "# To plot the vector\n",
    "import matplotlib.pyplot as plt\n",
    "ax = plt.axes()\n",
    "plt.axis([-1-v[0],1+v[0],-1-v[1],1+v[1]])\n",
    "x1 = 0\n",
    "y1 = 0\n",
    "x2 = v[0]\n",
    "y2 = v[1]\n",
    "\n",
    "ax.arrow(0,0,v[0],v[1], head_width=0.09, head_length=0.09, fc = 'y', ec ='k')\n",
    "#ax.arrow(x1, y1, x2 , y2, head_width=0.1, head_length=0.1, fc = 'k', ec = 'k')\n",
    "#ax.arrow(0,0,1.5,0, head_width=0.1, head_length=0.1, fc = 'k',ec = 'r')\n",
    "#ax.arrow(0,0,-1.5,-1, head_width=0.1, head_length=0.1, fc = 'k',ec = 'b')\n",
    "plt.text(v[0]*1.3,v[1]*1.3,'$X$', fontsize=15)\n",
    "#plt.text(B[0,0]+0.2,B[1,1],'$B$', fontsize=15)\n",
    "#plt.text(1.5,0.1,'$F_2$',{'color':'red','fontsize':15})\n",
    "#plt.text(-1.5,-0.8,'$F_3$',{'color':'blue','fontsize':15})\n",
    "plt.show()\n",
    "grad = (y2 - y1)/(x2 - x1)\n",
    "print('gradient: {}'.format(grad))"
   ]
  },
  {
   "cell_type": "code",
   "execution_count": 40,
   "metadata": {},
   "outputs": [
    {
     "name": "stdout",
     "output_type": "stream",
     "text": [
      "Angle of rotatation is 45.0 degrees or 0.785398163397 radians\n"
     ]
    }
   ],
   "source": [
    "# Rotation Operator\n",
    "thetadeg = np.round(m.degrees(m.atan(y/x)),12)\n",
    "\n",
    "thetarad = np.round(m.atan(y/x),12)\n",
    "\n",
    "print('Angle of rotatation is {} degrees or {} radians'.format(thetadeg,thetarad))"
   ]
  },
  {
   "cell_type": "code",
   "execution_count": 41,
   "metadata": {},
   "outputs": [
    {
     "data": {
      "text/plain": [
       "array([[ 0.70710678, -0.70710678],\n",
       "       [ 0.70710678,  0.70710678]])"
      ]
     },
     "execution_count": 41,
     "metadata": {},
     "output_type": "execute_result"
    }
   ],
   "source": [
    "R=np.array([[np.cos(thetarad), -np.sin(thetarad)],[np.sin(thetarad), np.cos(thetarad)]])\n",
    "R"
   ]
  },
  {
   "cell_type": "code",
   "execution_count": 42,
   "metadata": {},
   "outputs": [
    {
     "data": {
      "text/plain": [
       "array([7.60813634e-12, 1.69705627e+01])"
      ]
     },
     "execution_count": 42,
     "metadata": {},
     "output_type": "execute_result"
    }
   ],
   "source": [
    "# Rotated vector B=A*X\n",
    "B=np.dot(R,v)\n",
    "B"
   ]
  },
  {
   "cell_type": "code",
   "execution_count": 43,
   "metadata": {},
   "outputs": [
    {
     "data": {
      "image/png": "[encoded data removed]",
      "text/plain": [
       "<Figure size 432x288 with 1 Axes>"
      ]
     },
     "metadata": {
      "needs_background": "light"
     },
     "output_type": "display_data"
    }
   ],
   "source": [
    "# Plot both vectors\n",
    "\n",
    "# To plot the vector\n",
    "\n",
    "import matplotlib.pyplot as plt\n",
    "\n",
    "ax = plt.axes()\n",
    "plt.axis([-2-max(v[0],B[0]),2+max(v[0],B[0]),-2-max(v[1],B[1]),2+max(v[1],B[1])])\n",
    "\n",
    "\n",
    "ax.arrow(0,0,v[0],v[1], head_width=0.09, head_length=0.09, fc = 'y', ec ='k')\n",
    "ax.arrow(0,0,B[0],B[1], head_width=0.1, head_length=0.1, fc = 'k', ec = 'k')\n",
    "#ax.arrow(0,0,1.5,0, head_width=0.1, head_length=0.1, fc = 'k',ec = 'r')\n",
    "#ax.arrow(0,0,-1.5,-1, head_width=0.1, head_length=0.1, fc = 'k',ec = 'b')\n",
    "plt.text(v[0]*1.3,v[1]*1.3,'$v$', fontsize=15)\n",
    "plt.text(B[0]+0.2,B[1],'$B=Rv$', fontsize=15)\n",
    "#plt.text(1.5,0.1,'$F_2$',{'color':'red','fontsize':15})\n",
    "#plt.text(-1.5,-0.8,'$F_3$',{'color':'blue','fontsize':15})\n",
    "plt.show()"
   ]
  },
  {
   "cell_type": "code",
   "execution_count": null,
   "metadata": {},
   "outputs": [],
   "source": []
  },
  {
   "cell_type": "code",
   "execution_count": null,
   "metadata": {},
   "outputs": [],
   "source": []
  }
 ],
 "metadata": {
  "kernelspec": {
   "display_name": "Python 3",
   "language": "python",
   "name": "python3"
  },
  "language_info": {
   "codemirror_mode": {
    "name": "ipython",
    "version": 3
   },
   "file_extension": ".py",
   "mimetype": "text/x-python",
   "name": "python",
   "nbconvert_exporter": "python",
   "pygments_lexer": "ipython3",
   "version": "3.7.1"
  }
 },
 "nbformat": 4,
 "nbformat_minor": 2
}
