{
 "cells": [
  {
   "cell_type": "markdown",
   "metadata": {},
   "source": [
    "# Vector Rotation 2D\n",
    "## To demonstrate how graphics are rotated using matrix algebra.\n",
    "#### Starting at the simplest level, with the rotation of a vector in the field of $\\mathbb{R}^{2}$.\n",
    "### The user may choose the x and y coordinates of vector $\\vec{v}$ and enter the angle of rotation (in degrees) when prompted.\n",
    "### The rotation matrix R is employed to perform the rotation at the specified angle from the x-axis.\n",
    "$\n",
    "R = \n",
    "\\begin{pmatrix}\n",
    "cos(\\theta) & -sin(\\theta)  \\\\\n",
    "cos(\\theta) & -sin(\\theta)  \\\\\n",
    "\\end{pmatrix}\n",
    "$\n",
    "\n",
    "### The rotation matrix is then applies to vector $\\vec{v}$ \n",
    "### via \n",
    "$v_{1} = R\\cdot{\\vec{v}}\n",
    "= \\begin{bmatrix}\n",
    "cos(\\theta) & -sin(\\theta  \\\\\n",
    "cos(\\theta) & -sin(\\theta  \\\\\n",
    "\\end{bmatrix}\n",
    "\\begin{bmatrix}\n",
    "x     \\\\\n",
    "y    \\\\\n",
    "\\end{bmatrix} $"
   ]
  },
  {
   "cell_type": "code",
   "execution_count": 15,
   "metadata": {},
   "outputs": [
    {
     "name": "stdout",
     "output_type": "stream",
     "text": [
      "Enter x coord: 1\n",
      "Enter y coord: 0\n",
      "Enter angle of rotation in degrees: 90\n",
      "a = [1. 0.], v = [1. 0.], vector v =[1.0, 0.0], angle of rotation is 90.0 degrees\n"
     ]
    },
    {
     "data": {
      "text/plain": [
       "array([6.123234e-17, 1.000000e+00])"
      ]
     },
     "execution_count": 15,
     "metadata": {},
     "output_type": "execute_result"
    }
   ],
   "source": [
    "# Define the vector\n",
    "import numpy as np\n",
    "import math as m\n",
    "import matplotlib.pyplot as plt\n",
    "\n",
    "x=float(input('Enter x coord: ' ))\n",
    "y=float(input('Enter y coord: ' ))\n",
    "angle=float(input('Enter angle of rotation in degrees: '))\n",
    "anglerad = angle*(m.pi/180)\n",
    "a = np.array([x,y])\n",
    "v = np.transpose(a)\n",
    "print('a = {}, v = {}, vector v =[{}, {}], angle of rotation is {} degrees'.format(a,v, v[0],v[1],angle))\n",
    "\n",
    "R=np.array([[np.cos(anglerad), -np.sin(anglerad)],[np.sin(anglerad), np.cos(anglerad)]])\n",
    "R\n",
    "\n",
    "# Rotated vector B=A*X\n",
    "v1=np.dot(R,v)\n",
    "v1\n",
    "\n",
    "# Plot both vectors\n",
    "\n"
   ]
  },
  {
   "cell_type": "markdown",
   "metadata": {},
   "source": [
    "## This code execute the plotting of the orginal vector $\\vec{v}$ and its position after subjected to the rotation $v_{1}=R\\cdot{\\vec{v}}$"
   ]
  },
  {
   "cell_type": "code",
   "execution_count": 18,
   "metadata": {},
   "outputs": [
    {
     "data": {
      "image/png": "[encoded data removed]",
      "text/plain": [
       "<Figure size 432x288 with 1 Axes>"
      ]
     },
     "metadata": {
      "needs_background": "light"
     },
     "output_type": "display_data"
    }
   ],
   "source": [
    "ax = plt.axes()\n",
    "plt.axis([-2-max(v[0],v1[0]),2+max(v[0],v1[0]),-2-max(v[1],v1[1]),2+max(v[1],v1[1])])\n",
    "ax.arrow(0,0,v[0],v[1], head_width=0.09, head_length=0.09, fc = 'y', ec ='k')\n",
    "ax.arrow(0,0,v1[0],v1[1], head_width=0.1, head_length=0.1, fc = 'k', ec = 'k')\n",
    "\n",
    "plt.text(v[0]*1.3,v[1]*1.3,'$v$', fontsize=15)\n",
    "plt.text(v1[0]+0.2,v1[1],'$v_{1}=Rv$', fontsize=15)\n",
    "\n",
    "plt.show()"
   ]
  },
  {
   "cell_type": "code",
   "execution_count": null,
   "metadata": {},
   "outputs": [],
   "source": []
  }
 ],
 "metadata": {
  "kernelspec": {
   "display_name": "Python 3",
   "language": "python",
   "name": "python3"
  },
  "language_info": {
   "codemirror_mode": {
    "name": "ipython",
    "version": 3
   },
   "file_extension": ".py",
   "mimetype": "text/x-python",
   "name": "python",
   "nbconvert_exporter": "python",
   "pygments_lexer": "ipython3",
   "version": "3.7.1"
  }
 },
 "nbformat": 4,
 "nbformat_minor": 2
}
