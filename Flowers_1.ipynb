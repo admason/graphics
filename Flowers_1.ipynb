{
 "cells": [
  {
   "cell_type": "code",
   "execution_count": null,
   "metadata": {},
   "outputs": [],
   "source": [
    "# Flowers with odd numbers of petal\n",
    "\n",
    "import turtle\n",
    "import math\n",
    "\n",
    "r=int(input(\"Radius of flower? \"))\n",
    "n=int(input(\"Number of petals, (odd numbers only)? \"))\n",
    "\n",
    "angle=360/n\n",
    "\n",
    "def polyline(t, n, length, angle):\n",
    "    for i in range(n):\n",
    "        t.fd(length)\n",
    "        t.lt(angle)\n",
    "bloom=turtle.Turtle()\n",
    "\n",
    "def arc(t, r, angle):\n",
    "    arc_length = 2*math.pi*r*angle/360\n",
    "    n = int(arc_length/3) + 1\n",
    "    step_length = arc_length/n\n",
    "    step_angle = float(angle)/n\n",
    "    polyline(t, n, step_length, step_angle)\n",
    "\n",
    "bloom=turtle.Turtle()\n",
    "\n",
    "def polygon(t, n, length):\n",
    "    angle = 360/n\n",
    "    polyline(t, n, length, angle)\n",
    "\n",
    "def petal(t,r,angle):\n",
    "    angle=360/n\n",
    "    arc(t,r,angle)\n",
    "    t.lt(180-angle)\n",
    "    arc(t,r,angle)\n",
    "\n",
    "\n",
    "def flower(t,r,n,angle):\n",
    "    for i in range(n):\n",
    "        petal(t,r,angle)\n",
    "        t.rt(180-angle)\n",
    "    \n",
    "flower(bloom,r,n,angle)"
   ]
  },
  {
   "cell_type": "code",
   "execution_count": null,
   "metadata": {},
   "outputs": [],
   "source": []
  }
 ],
 "metadata": {
  "kernelspec": {
   "display_name": "Python 3",
   "language": "python",
   "name": "python3"
  },
  "language_info": {
   "codemirror_mode": {
    "name": "ipython",
    "version": 3
   },
   "file_extension": ".py",
   "mimetype": "text/x-python",
   "name": "python",
   "nbconvert_exporter": "python",
   "pygments_lexer": "ipython3",
   "version": "3.7.1"
  }
 },
 "nbformat": 4,
 "nbformat_minor": 2
}
